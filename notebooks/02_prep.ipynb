{
 "cells": [
  {
   "cell_type": "markdown",
   "metadata": {},
   "source": [
    "# Data Preparation\n",
    "## Proyek: Prediksi Musiman Penjualan Ayam – Kios Vantedjo\n",
    "\n",
    "**Tujuan:** Membersihkan dan mempersiapkan data untuk modeling\n",
    "\n",
    "**Owner:** Sabriyah (Data Engineer)\n",
    "\n",
    "**Tanggal:** [Tanggal Eksekusi]\n"
   ]
  },
  {
   "cell_type": "code",
   "execution_count": null,
   "metadata": {},
   "outputs": [],
   "source": [
    "# Import Libraries\n",
    "import pandas as pd\n",
    "import numpy as np\n",
    "import holidays\n",
    "from datetime import datetime, timedelta\n",
    "\n",
    "# Configuration\n",
    "pd.set_option('display.max_columns', None)"
   ]
  },
  {
   "cell_type": "markdown",
   "metadata": {},
   "source": [
    "## 1. Data Loading"
   ]
  },
  {
   "cell_type": "code",
   "execution_count": null,
   "metadata": {},
   "outputs": [],
   "source": [
    "# Load raw data\n",
    "# df_raw = pd.read_csv('../data/raw/sales_raw.csv')\n",
    "pass"
   ]
  },
  {
   "cell_type": "markdown",
   "metadata": {},
   "source": [
    "## 2. Data Standardization"
   ]
  },
  {
   "cell_type": "code",
   "execution_count": null,
   "metadata": {},
   "outputs": [],
   "source": [
    "# Standardize column names: date, category, qty, revenue, unit_price\n",
    "pass"
   ]
  },
  {
   "cell_type": "markdown",
   "metadata": {},
   "source": [
    "## 3. Date Processing & Aggregation"
   ]
  },
  {
   "cell_type": "code",
   "execution_count": null,
   "metadata": {},
   "outputs": [],
   "source": [
    "# Convert to datetime\n",
    "# Aggregate to daily per category\n",
    "# Handle missing dates\n",
    "pass"
   ]
  },
  {
   "cell_type": "markdown",
   "metadata": {},
   "source": [
    "## 4. Calendar Features Engineering"
   ]
  },
  {
   "cell_type": "code",
   "execution_count": null,
   "metadata": {},
   "outputs": [],
   "source": [
    "def create_calendar_features(df):\n",
    "    \"\"\"\n",
    "    Create calendar-based features\n",
    "    \"\"\"\n",
    "    df = df.copy()\n",
    "    \n",
    "    # Basic date features\n",
    "    df['year'] = df['date'].dt.year\n",
    "    df['month'] = df['date'].dt.month\n",
    "    df['day'] = df['date'].dt.day\n",
    "    df['dayofweek'] = df['date'].dt.dayofweek  # 0=Monday\n",
    "    df['dayofyear'] = df['date'].dt.dayofyear\n",
    "    df['week'] = df['date'].dt.isocalendar().week\n",
    "    \n",
    "    # Weekend flag\n",
    "    df['is_weekend'] = (df['dayofweek'] >= 5).astype(int)\n",
    "    \n",
    "    # Indonesian holidays\n",
    "    id_holidays = holidays.Indonesia(years=[2024])\n",
    "    df['is_holiday'] = df['date'].dt.date.isin(id_holidays.keys()).astype(int)\n",
    "    \n",
    "    # Special events (to be customized)\n",
    "    special_dates = [\n",
    "        # Add specific dates for local events\n",
    "    ]\n",
    "    df['is_special_event'] = df['date'].dt.date.isin(special_dates).astype(int)\n",
    "    \n",
    "    return df\n",
    "\n",
    "# Apply calendar features\n",
    "# df_processed = create_calendar_features(df_clean)\n",
    "pass"
   ]
  },
  {
   "cell_type": "markdown",
   "metadata": {},
   "source": [
    "## 5. Data Quality Validation"
   ]
  },
  {
   "cell_type": "code",
   "execution_count": null,
   "metadata": {},
   "outputs": [],
   "source": [
    "# Final data quality checks\n",
    "# Export to processed folder\n",
    "pass"
   ]
  },
  {
   "cell_type": "markdown",
   "metadata": {},
   "source": [
    "## 6. Export Clean Dataset"
   ]
  },
  {
   "cell_type": "code",
   "execution_count": null,
   "metadata": {},
   "outputs": [],
   "source": [
    "# df_processed.to_csv('../data/processed/dataset_clean.csv', index=False)\n",
    "# print(\"Dataset saved to ../data/processed/dataset_clean.csv\")\n",
    "pass"
   ]
  }
 ],
 "metadata": {
  "kernelspec": {
   "display_name": "Python 3",
   "language": "python",
   "name": "python3"
  },
  "language_info": {
   "codemirror_mode": {
    "name": "ipython",
    "version": 3
   },
   "file_extension": ".py",
   "mimetype": "text/x-python",
   "name": "python",
   "nbconvert_exporter": "python",
   "pygments_lexer": "ipython3",
   "version": "3.8.0"
  }
 },
 "nbformat": 4,
 "nbformat_minor": 4
}