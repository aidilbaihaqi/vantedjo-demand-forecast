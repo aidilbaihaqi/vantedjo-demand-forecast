{
 "cells": [
  {
   "cell_type": "markdown",
   "metadata": {},
   "source": [
    "# Exploratory Data Analysis (EDA)\n",
    "## Proyek: Prediksi Musiman Penjualan Ayam – Kios Vantedjo\n",
    "\n",
    "**Tujuan:** Memahami pola dan karakteristik data penjualan harian\n",
    "\n",
    "**Owner:** Elfa (Data Analyst)\n",
    "\n",
    "**Tanggal:** [29-10-2025]\n"
   ]
  },
  {
   "cell_type": "code",
   "execution_count": null,
   "metadata": {},
   "outputs": [],
   "source": []
  },
  {
   "cell_type": "code",
   "execution_count": null,
   "metadata": {},
   "outputs": [],
   "source": [
    "# Import Libraries\n",
    "import pandas as pd\n",
    "import numpy as np\n",
    "import matplotlib.pyplot as plt\n",
    "import seaborn as sns\n",
    "import plotly.express as px\n",
    "import plotly.graph_objects as go\n",
    "from plotly.subplots import make_subplots\n",
    "\n",
    "# Time Series Libraries\n",
    "from statsmodels.tsa.seasonal import seasonal_decompose\n",
    "from statsmodels.tsa.stattools import adfuller\n",
    "from statsmodels.graphics.tsaplots import plot_acf, plot_pacf\n",
    "\n",
    "# Configuration\n",
    "plt.style.use('seaborn-v0_8')\n",
    "sns.set_palette(\"husl\")\n",
    "pd.set_option('display.max_columns', None)\n",
    "\n",
    "# Suppress warnings\n",
    "import warnings\n",
    "warnings.filterwarnings('ignore')"
   ]
  },
  {
   "cell_type": "markdown",
   "metadata": {},
   "source": [
    "## 1. Data Loading & Initial Inspection"
   ]
  },
  {
   "cell_type": "code",
   "execution_count": null,
   "metadata": {},
   "outputs": [],
   "source": [
    "# --- 1. Data Loading ---\n",
    "# Muat data mentah Anda\n",
    "df = pd.read_csv('Parsing Data - Parsing.csv', header=1)\n",
    "print(f\"Data mentah dimuat, {df.shape[0]} baris.\")\n",
    "   "
   ]
  },
  {
   "cell_type": "markdown",
   "metadata": {},
   "source": [
    "## 2. Data Quality Assessment"
   ]
  },
  {
   "cell_type": "code",
   "execution_count": null,
   "metadata": {},
   "outputs": [],
   "source": [
    "# --- 2. Data Quality & Cleaning ---\n",
    "# Salin-tempel kode cleaning dari notebook sebelumnya\n",
    "\n",
    "# 2a. Memperbaiki 'Ayam Tua (A.T)'\n",
    "df['Ayam Tua (A.T)'] = df['Ayam Tua (A.T)'].astype(str).str.replace(' ', '')\n",
    "df['Ayam Tua (A.T)'] = pd.to_numeric(df['Ayam Tua (A.T)'], errors='coerce')\n",
    "\n",
    "# 2b. Imputation (Mengisi Nilai Kosong)\n",
    "columns_to_fill = ['Banyak Ekor', 'Ayam Potong (A.P)', 'Ayam Kampung (A.K)', 'Ayam Tua (A.T)']\n",
    "df[columns_to_fill] = df[columns_to_fill].fillna(0)\n",
    "\n",
    "# 2c. Encoding 'Bulan'\n",
    "bulan_map = {'JANUARI': 1, 'FEBRUARI': 2, 'MARET': 3, 'APRIL': 4, 'MEI': 5, 'JUNI': 6}\n",
    "df['Bulan'] = df['Bulan'].map(bulan_map)\n",
    "\n",
    "print(\"Data selesai dibersihkan.\")\n",
    "df.info()"
   ]
  },
  {
   "cell_type": "code",
   "execution_count": null,
   "metadata": {},
   "outputs": [],
   "source": []
  },
  {
   "cell_type": "markdown",
   "metadata": {},
   "source": [
    "## 3. Univariate Analysis"
   ]
  },
  {
   "cell_type": "code",
   "execution_count": null,
   "metadata": {},
   "outputs": [],
   "source": [
    "df['Tahun'] = 2024\n",
    "df['date'] = pd.to_datetime(df[['Tahun', 'Bulan', 'Tanggal']].rename(columns={\n",
    "    'Tahun': 'year', 'Bulan': 'month', 'Tanggal': 'day'\n",
    "}))\n",
    "\n",
    "# 3b. AGREGASI DATA\n",
    "# Ini adalah langkah terpenting.\n",
    "# Kita jumlahkan semua transaksi per hari.\n",
    "kolom_agregasi = ['Banyak Ekor', 'Ayam Potong (A.P)', 'Ayam Kampung (A.K)', 'Ayam Tua (A.T)', 'Harga']\n",
    "df_daily = df.groupby('date')[kolom_agregasi].sum()\n",
    "\n",
    "# 3c. Mengisi Hari yang Hilang (Opsional tapi Direkomendasikan)\n",
    "# Membuat rentang tanggal penuh dari awal sampai akhir pencatatan\n",
    "# 'D' berarti frekuensi Harian (Daily)\n",
    "full_date_range = pd.date_range(start=df_daily.index.min(), end=df_daily.index.max(), freq='D')\n",
    "df_daily = df_daily.reindex(full_date_range).fillna(0)\n",
    "\n",
    "# 3d. Set 'date' sebagai Index (Opsional, tapi praktik yang baik)\n",
    "# (Sebenarnya groupby 'date' sudah membuatnya jadi index, tapi ini memastikan)\n",
    "df_daily = df_daily.asfreq('D') # Memastikan frekuensi harian\n",
    "\n",
    "print(f\"\\nData telah diagregasi menjadi {df_daily.shape[0]} hari.\")\n",
    "print(\"Data harian siap untuk analisis Time Series:\")\n",
    "df_daily.head()"
   ]
  },
  {
   "cell_type": "markdown",
   "metadata": {},
   "source": [
    "## 4. Time Series Analysis"
   ]
  },
  {
   "cell_type": "code",
   "execution_count": null,
   "metadata": {},
   "outputs": [],
   "source": [
    "from statsmodels.tsa.seasonal import seasonal_decompose\n",
    "\n",
    "# Kita fokus pada 'Harga'.\n",
    "# period=7 karena kita ingin melihat pola mingguan (7 hari)\n",
    "decomposition = seasonal_decompose(df_daily['Harga'], model='additive', period=7)\n",
    "\n",
    "fig = decomposition.plot()\n",
    "fig.set_size_inches(12, 8)\n",
    "plt.suptitle('Dekomposisi Time Series (Pola Mingguan)', y=1.02)\n",
    "plt.show()"
   ]
  },
  {
   "cell_type": "markdown",
   "metadata": {},
   "source": [
    "## 5. Calendar Effects Analysis"
   ]
  },
  {
   "cell_type": "code",
   "execution_count": null,
   "metadata": {},
   "outputs": [],
   "source": [
    "\n",
    "# Buat kolom baru untuk hari dalam seminggu\n",
    "df_daily['day_of_week'] = df_daily.index.day_name()\n",
    "\n",
    "# Tampilkan pola penjualan berdasarkan hari\n",
    "plt.figure(figsize=(10, 6))\n",
    "sns.boxplot(data=df_daily, x='day_of_week', y='Harga')\n",
    "plt.title('Distribusi Penjualan Harian berdasarkan Hari')\n",
    "plt.xlabel('Hari')\n",
    "plt.ylabel('Total Penjualan Harian (Rp)')\n",
    "plt.show()"
   ]
  },
  {
   "cell_type": "markdown",
   "metadata": {},
   "source": [
    "## 6. Summary & Insights"
   ]
  },
  {
   "cell_type": "markdown",
   "metadata": {},
   "source": [
    "### Key Findings:\n",
    "- Pola musiman mingguan (7-harian) menunjukkan pola yang kuat dan dapat diprediksi. Penjualan sangat bergantung pada hari dalam seminggu, dengan puncak penjualan yang secara konsisten terjadi pada hari Jumat dan Sabtu.\n",
    "- Analisis tren jangka panjang mengindikasikan bahwa bisnis ini mengalami pertumbuhan yang lambat namun stabil selama periode 6 bulan. Rata-rata penjualan harian meningkat secara bertahap dari Januari hingga Juni.\n",
    "- Dari perspektif transaksi individu, bisnis ini didominasi oleh banyak transaksi bernilai kecil (ditunjukkan oleh penumpukan data di sisi kiri distribusi). Namun, terdapat outlier berupa transaksi bernilai sangat tinggi yang jarang terjadi, kemungkinan berupa pesanan grosir atau pesanan besar.\n",
    "- Kombinasi antara tren yang jelas dan pola musiman yang sangat kuat (dibuktikan oleh lonjakan pada lag 7, 14, dan 21 dalam grafik ACF) membuat data ini sangat cocok untuk peramalan. Meskipun demikian, data ini bersifat non-stasioner (akibat adanya tren) sehingga memerlukan penanganan teknis sebelum dilakukan pemodelan.\n",
    "\n",
    "### Recommendations for Modeling:\n",
    "- Rekomendasi 1: Gunakan Model yang Menangani Musiman (SARIMA)\n",
    "Model ARIMA standar tidak cukup karena tidak dapat menangkap pola musiman yang kuat, seperti lonjakan penjualan pada hari Jumat dan Sabtu. SARIMA (Seasonal ARIMA) dirancang khusus untuk data dengan siklus berulang, sehingga lebih sesuai untuk meningkatkan akurasi prediksi.\n",
    "Aksi: Atur parameter musiman (m atau seasonal period) menjadi 7 untuk merepresentasikan pola mingguan. Ini akan membantu model mengenali dan memprediksi fluktuasi harian secara efektif.\n",
    "- Rekomendasi 2: Stabilkan Data dengan Differencing\n",
    "Data ini non-stasioner akibat tren naik secara bertahap dari Januari hingga Juni, yang dapat menyebabkan model gagal dalam memprediksi pola jangka panjang. Differencing adalah teknik sederhana untuk menghilangkan tren ini dan membuat data lebih stabil (stasioner), sehingga model dapat bekerja optimal.\n",
    "Aksi: Terapkan differencing non-musiman dengan parameter d=1 (atau d=2 jika tren masih kuat setelah pengujian). Gunakan uji seperti Augmented Dickey-Fuller (ADF) untuk memverifikasi bahwa data telah menjadi stasioner setelah differencing.\n",
    "- Rekomendasi 3: Integrasikan Efek Kalender dengan SARIMAX\n",
    "Pola penjualan yang bergantung pada hari dalam seminggu (misalnya, puncak pada Jumat dan Sabtu) adalah efek kalender yang dapat dimanfaatkan sebagai informasi tambahan. SARIMAX (SARIMA with eXogenous variables) memungkinkan penambahan faktor eksternal ini, yang akan meningkatkan presisi prediksi secara signifikan dibandingkan model dasar.\n",
    "Aksi: Gunakan SARIMAX dan tambahkan variabel dummy (regressor) untuk setiap hari dalam seminggu, seperti is_Friday=1 (jika hari Jumat) atau 0 (selainnya), serta serupa untuk Sabtu dan hari lainnya. Ini memungkinkan model untuk \"belajar\" pengaruh spesifik hari tersebut terhadap penjualan.\n",
    "- Rekomendasi 4: Identifikasi dan Tangani Anomali (Outlier)\n",
    "Grafik dekomposisi menunjukkan lonjakan residual yang tidak dapat dijelaskan oleh tren atau musiman, seperti pesanan besar satu kali (misalnya, katering atau libur spesial). Anomali ini dapat mengganggu pembelajaran model jika tidak ditangani, sehingga penting untuk membersihkannya agar prediksi lebih andal.\n",
    "Aksi: Lakukan investigasi manual terhadap lonjakan tersebut dengan memeriksa data historis (misalnya, tanggal spesifik). Jika anomali bersifat satu kali dan tidak berulang, bersihkan dengan mengganti nilai ekstrem menggunakan metode seperti imputasi rata-rata atau median dari data sekitarnya. Setelah itu, uji ulang model untuk memastikan peningkatan akurasi."
   ]
  }
 ],
 "metadata": {
  "kernelspec": {
   "display_name": "Python 3",
   "language": "python",
   "name": "python3"
  },
  "language_info": {
   "codemirror_mode": {
    "name": "ipython",
    "version": 3
   },
   "file_extension": ".py",
   "mimetype": "text/x-python",
   "name": "python",
   "nbconvert_exporter": "python",
   "pygments_lexer": "ipython3",
   "version": "3.8.0"
  }
 },
 "nbformat": 4,
 "nbformat_minor": 4
}
